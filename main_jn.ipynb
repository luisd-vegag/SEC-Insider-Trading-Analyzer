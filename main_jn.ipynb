{
 "cells": [
  {
   "cell_type": "code",
   "execution_count": 2,
   "metadata": {},
   "outputs": [
    {
     "name": "stdout",
     "output_type": "stream",
     "text": [
      "THIS COULD TAKE A WHILE SO GRAB A SHACK AND BUCKLE UP!\n",
      "CIK: '1318605'| Found 0 new operations.\n",
      "Incoming df: 0\n",
      "Existing df: 281\n",
      "CIK: '1318605'| Saved Form 4 data.\n"
     ]
    }
   ],
   "source": [
    "from ClassForm4 import Form4\n",
    "\n",
    "cik = '1318605'\n",
    "start_date = '2020-01-01'\n",
    "end_date = '2022-12-31'\n",
    "days_range = 0\n",
    "\n",
    "tesla = Form4(cik, start_date=start_date, end_date=end_date, days_range =days_range)\n",
    "\n",
    "tesla.save_to_csv('tesla_data.csv')"
   ]
  },
  {
   "cell_type": "code",
   "execution_count": 3,
   "metadata": {},
   "outputs": [
    {
     "name": "stdout",
     "output_type": "stream",
     "text": [
      "THIS COULD TAKE A WHILE SO GRAB A SHACK AND BUCKLE UP!\n",
      "CIK: '1318605'| Found 0 new operations.\n",
      "Incoming df: 0\n",
      "Existing df: 281\n",
      "[*********************100%***********************]  1 of 1 completed\n",
      "Existing df: 3019\n"
     ]
    },
    {
     "data": {
      "application/vnd.plotly.v1+json": {
       "config": {
        "plotlyServerURL": "https://plot.ly"
       },
       "data": [
        {
         "alignmentgroup": "True",
         "hovertemplate": "variable=A<br>rptOwnerName=%{x}<br>value=%{y}<extra></extra>",
         "legendgroup": "A",
         "marker": {
          "color": "#636efa",
          "pattern": {
           "shape": ""
          }
         },
         "name": "A",
         "offsetgroup": "A",
         "orientation": "v",
         "showlegend": true,
         "textposition": "auto",
         "type": "bar",
         "x": [
          "Baglino Andrew D",
          "DENHOLM ROBYN M",
          "Ehrenpreis Ira Matthew",
          "Gracias Antonio J.",
          "Guillen Jerome M",
          "Kirkhorn Zachary",
          "Mizuno Hiromichi",
          "Musk Elon",
          "Musk Kimbal",
          "Taneja Vaibhav",
          "Wilson-Thompson Kathleen"
         ],
         "xaxis": "x",
         "y": [
          205459,
          7000,
          null,
          4000,
          205459,
          205459,
          23446,
          null,
          null,
          51365,
          26250
         ],
         "yaxis": "y"
        },
        {
         "alignmentgroup": "True",
         "hovertemplate": "variable=D<br>rptOwnerName=%{x}<br>value=%{y}<extra></extra>",
         "legendgroup": "D",
         "marker": {
          "color": "#EF553B",
          "pattern": {
           "shape": ""
          }
         },
         "name": "D",
         "offsetgroup": "D",
         "orientation": "v",
         "showlegend": true,
         "textposition": "auto",
         "type": "bar",
         "x": [
          "Baglino Andrew D",
          "DENHOLM ROBYN M",
          "Ehrenpreis Ira Matthew",
          "Gracias Antonio J.",
          "Guillen Jerome M",
          "Kirkhorn Zachary",
          "Mizuno Hiromichi",
          "Musk Elon",
          "Musk Kimbal",
          "Taneja Vaibhav",
          "Wilson-Thompson Kathleen"
         ],
         "xaxis": "x",
         "y": [
          153892,
          406997,
          370000,
          382899,
          111009,
          124964,
          null,
          22862050,
          86450,
          89962,
          92635
         ],
         "yaxis": "y"
        }
       ],
       "layout": {
        "barmode": "stack",
        "legend": {
         "title": {
          "text": "variable"
         },
         "tracegroupgap": 0
        },
        "template": {
         "data": {
          "bar": [
           {
            "error_x": {
             "color": "#2a3f5f"
            },
            "error_y": {
             "color": "#2a3f5f"
            },
            "marker": {
             "line": {
              "color": "#E5ECF6",
              "width": 0.5
             },
             "pattern": {
              "fillmode": "overlay",
              "size": 10,
              "solidity": 0.2
             }
            },
            "type": "bar"
           }
          ],
          "barpolar": [
           {
            "marker": {
             "line": {
              "color": "#E5ECF6",
              "width": 0.5
             },
             "pattern": {
              "fillmode": "overlay",
              "size": 10,
              "solidity": 0.2
             }
            },
            "type": "barpolar"
           }
          ],
          "carpet": [
           {
            "aaxis": {
             "endlinecolor": "#2a3f5f",
             "gridcolor": "white",
             "linecolor": "white",
             "minorgridcolor": "white",
             "startlinecolor": "#2a3f5f"
            },
            "baxis": {
             "endlinecolor": "#2a3f5f",
             "gridcolor": "white",
             "linecolor": "white",
             "minorgridcolor": "white",
             "startlinecolor": "#2a3f5f"
            },
            "type": "carpet"
           }
          ],
          "choropleth": [
           {
            "colorbar": {
             "outlinewidth": 0,
             "ticks": ""
            },
            "type": "choropleth"
           }
          ],
          "contour": [
           {
            "colorbar": {
             "outlinewidth": 0,
             "ticks": ""
            },
            "colorscale": [
             [
              0,
              "#0d0887"
             ],
             [
              0.1111111111111111,
              "#46039f"
             ],
             [
              0.2222222222222222,
              "#7201a8"
             ],
             [
              0.3333333333333333,
              "#9c179e"
             ],
             [
              0.4444444444444444,
              "#bd3786"
             ],
             [
              0.5555555555555556,
              "#d8576b"
             ],
             [
              0.6666666666666666,
              "#ed7953"
             ],
             [
              0.7777777777777778,
              "#fb9f3a"
             ],
             [
              0.8888888888888888,
              "#fdca26"
             ],
             [
              1,
              "#f0f921"
             ]
            ],
            "type": "contour"
           }
          ],
          "contourcarpet": [
           {
            "colorbar": {
             "outlinewidth": 0,
             "ticks": ""
            },
            "type": "contourcarpet"
           }
          ],
          "heatmap": [
           {
            "colorbar": {
             "outlinewidth": 0,
             "ticks": ""
            },
            "colorscale": [
             [
              0,
              "#0d0887"
             ],
             [
              0.1111111111111111,
              "#46039f"
             ],
             [
              0.2222222222222222,
              "#7201a8"
             ],
             [
              0.3333333333333333,
              "#9c179e"
             ],
             [
              0.4444444444444444,
              "#bd3786"
             ],
             [
              0.5555555555555556,
              "#d8576b"
             ],
             [
              0.6666666666666666,
              "#ed7953"
             ],
             [
              0.7777777777777778,
              "#fb9f3a"
             ],
             [
              0.8888888888888888,
              "#fdca26"
             ],
             [
              1,
              "#f0f921"
             ]
            ],
            "type": "heatmap"
           }
          ],
          "heatmapgl": [
           {
            "colorbar": {
             "outlinewidth": 0,
             "ticks": ""
            },
            "colorscale": [
             [
              0,
              "#0d0887"
             ],
             [
              0.1111111111111111,
              "#46039f"
             ],
             [
              0.2222222222222222,
              "#7201a8"
             ],
             [
              0.3333333333333333,
              "#9c179e"
             ],
             [
              0.4444444444444444,
              "#bd3786"
             ],
             [
              0.5555555555555556,
              "#d8576b"
             ],
             [
              0.6666666666666666,
              "#ed7953"
             ],
             [
              0.7777777777777778,
              "#fb9f3a"
             ],
             [
              0.8888888888888888,
              "#fdca26"
             ],
             [
              1,
              "#f0f921"
             ]
            ],
            "type": "heatmapgl"
           }
          ],
          "histogram": [
           {
            "marker": {
             "pattern": {
              "fillmode": "overlay",
              "size": 10,
              "solidity": 0.2
             }
            },
            "type": "histogram"
           }
          ],
          "histogram2d": [
           {
            "colorbar": {
             "outlinewidth": 0,
             "ticks": ""
            },
            "colorscale": [
             [
              0,
              "#0d0887"
             ],
             [
              0.1111111111111111,
              "#46039f"
             ],
             [
              0.2222222222222222,
              "#7201a8"
             ],
             [
              0.3333333333333333,
              "#9c179e"
             ],
             [
              0.4444444444444444,
              "#bd3786"
             ],
             [
              0.5555555555555556,
              "#d8576b"
             ],
             [
              0.6666666666666666,
              "#ed7953"
             ],
             [
              0.7777777777777778,
              "#fb9f3a"
             ],
             [
              0.8888888888888888,
              "#fdca26"
             ],
             [
              1,
              "#f0f921"
             ]
            ],
            "type": "histogram2d"
           }
          ],
          "histogram2dcontour": [
           {
            "colorbar": {
             "outlinewidth": 0,
             "ticks": ""
            },
            "colorscale": [
             [
              0,
              "#0d0887"
             ],
             [
              0.1111111111111111,
              "#46039f"
             ],
             [
              0.2222222222222222,
              "#7201a8"
             ],
             [
              0.3333333333333333,
              "#9c179e"
             ],
             [
              0.4444444444444444,
              "#bd3786"
             ],
             [
              0.5555555555555556,
              "#d8576b"
             ],
             [
              0.6666666666666666,
              "#ed7953"
             ],
             [
              0.7777777777777778,
              "#fb9f3a"
             ],
             [
              0.8888888888888888,
              "#fdca26"
             ],
             [
              1,
              "#f0f921"
             ]
            ],
            "type": "histogram2dcontour"
           }
          ],
          "mesh3d": [
           {
            "colorbar": {
             "outlinewidth": 0,
             "ticks": ""
            },
            "type": "mesh3d"
           }
          ],
          "parcoords": [
           {
            "line": {
             "colorbar": {
              "outlinewidth": 0,
              "ticks": ""
             }
            },
            "type": "parcoords"
           }
          ],
          "pie": [
           {
            "automargin": true,
            "type": "pie"
           }
          ],
          "scatter": [
           {
            "fillpattern": {
             "fillmode": "overlay",
             "size": 10,
             "solidity": 0.2
            },
            "type": "scatter"
           }
          ],
          "scatter3d": [
           {
            "line": {
             "colorbar": {
              "outlinewidth": 0,
              "ticks": ""
             }
            },
            "marker": {
             "colorbar": {
              "outlinewidth": 0,
              "ticks": ""
             }
            },
            "type": "scatter3d"
           }
          ],
          "scattercarpet": [
           {
            "marker": {
             "colorbar": {
              "outlinewidth": 0,
              "ticks": ""
             }
            },
            "type": "scattercarpet"
           }
          ],
          "scattergeo": [
           {
            "marker": {
             "colorbar": {
              "outlinewidth": 0,
              "ticks": ""
             }
            },
            "type": "scattergeo"
           }
          ],
          "scattergl": [
           {
            "marker": {
             "colorbar": {
              "outlinewidth": 0,
              "ticks": ""
             }
            },
            "type": "scattergl"
           }
          ],
          "scattermapbox": [
           {
            "marker": {
             "colorbar": {
              "outlinewidth": 0,
              "ticks": ""
             }
            },
            "type": "scattermapbox"
           }
          ],
          "scatterpolar": [
           {
            "marker": {
             "colorbar": {
              "outlinewidth": 0,
              "ticks": ""
             }
            },
            "type": "scatterpolar"
           }
          ],
          "scatterpolargl": [
           {
            "marker": {
             "colorbar": {
              "outlinewidth": 0,
              "ticks": ""
             }
            },
            "type": "scatterpolargl"
           }
          ],
          "scatterternary": [
           {
            "marker": {
             "colorbar": {
              "outlinewidth": 0,
              "ticks": ""
             }
            },
            "type": "scatterternary"
           }
          ],
          "surface": [
           {
            "colorbar": {
             "outlinewidth": 0,
             "ticks": ""
            },
            "colorscale": [
             [
              0,
              "#0d0887"
             ],
             [
              0.1111111111111111,
              "#46039f"
             ],
             [
              0.2222222222222222,
              "#7201a8"
             ],
             [
              0.3333333333333333,
              "#9c179e"
             ],
             [
              0.4444444444444444,
              "#bd3786"
             ],
             [
              0.5555555555555556,
              "#d8576b"
             ],
             [
              0.6666666666666666,
              "#ed7953"
             ],
             [
              0.7777777777777778,
              "#fb9f3a"
             ],
             [
              0.8888888888888888,
              "#fdca26"
             ],
             [
              1,
              "#f0f921"
             ]
            ],
            "type": "surface"
           }
          ],
          "table": [
           {
            "cells": {
             "fill": {
              "color": "#EBF0F8"
             },
             "line": {
              "color": "white"
             }
            },
            "header": {
             "fill": {
              "color": "#C8D4E3"
             },
             "line": {
              "color": "white"
             }
            },
            "type": "table"
           }
          ]
         },
         "layout": {
          "annotationdefaults": {
           "arrowcolor": "#2a3f5f",
           "arrowhead": 0,
           "arrowwidth": 1
          },
          "autotypenumbers": "strict",
          "coloraxis": {
           "colorbar": {
            "outlinewidth": 0,
            "ticks": ""
           }
          },
          "colorscale": {
           "diverging": [
            [
             0,
             "#8e0152"
            ],
            [
             0.1,
             "#c51b7d"
            ],
            [
             0.2,
             "#de77ae"
            ],
            [
             0.3,
             "#f1b6da"
            ],
            [
             0.4,
             "#fde0ef"
            ],
            [
             0.5,
             "#f7f7f7"
            ],
            [
             0.6,
             "#e6f5d0"
            ],
            [
             0.7,
             "#b8e186"
            ],
            [
             0.8,
             "#7fbc41"
            ],
            [
             0.9,
             "#4d9221"
            ],
            [
             1,
             "#276419"
            ]
           ],
           "sequential": [
            [
             0,
             "#0d0887"
            ],
            [
             0.1111111111111111,
             "#46039f"
            ],
            [
             0.2222222222222222,
             "#7201a8"
            ],
            [
             0.3333333333333333,
             "#9c179e"
            ],
            [
             0.4444444444444444,
             "#bd3786"
            ],
            [
             0.5555555555555556,
             "#d8576b"
            ],
            [
             0.6666666666666666,
             "#ed7953"
            ],
            [
             0.7777777777777778,
             "#fb9f3a"
            ],
            [
             0.8888888888888888,
             "#fdca26"
            ],
            [
             1,
             "#f0f921"
            ]
           ],
           "sequentialminus": [
            [
             0,
             "#0d0887"
            ],
            [
             0.1111111111111111,
             "#46039f"
            ],
            [
             0.2222222222222222,
             "#7201a8"
            ],
            [
             0.3333333333333333,
             "#9c179e"
            ],
            [
             0.4444444444444444,
             "#bd3786"
            ],
            [
             0.5555555555555556,
             "#d8576b"
            ],
            [
             0.6666666666666666,
             "#ed7953"
            ],
            [
             0.7777777777777778,
             "#fb9f3a"
            ],
            [
             0.8888888888888888,
             "#fdca26"
            ],
            [
             1,
             "#f0f921"
            ]
           ]
          },
          "colorway": [
           "#636efa",
           "#EF553B",
           "#00cc96",
           "#ab63fa",
           "#FFA15A",
           "#19d3f3",
           "#FF6692",
           "#B6E880",
           "#FF97FF",
           "#FECB52"
          ],
          "font": {
           "color": "#2a3f5f"
          },
          "geo": {
           "bgcolor": "white",
           "lakecolor": "white",
           "landcolor": "#E5ECF6",
           "showlakes": true,
           "showland": true,
           "subunitcolor": "white"
          },
          "hoverlabel": {
           "align": "left"
          },
          "hovermode": "closest",
          "mapbox": {
           "style": "light"
          },
          "paper_bgcolor": "white",
          "plot_bgcolor": "#E5ECF6",
          "polar": {
           "angularaxis": {
            "gridcolor": "white",
            "linecolor": "white",
            "ticks": ""
           },
           "bgcolor": "#E5ECF6",
           "radialaxis": {
            "gridcolor": "white",
            "linecolor": "white",
            "ticks": ""
           }
          },
          "scene": {
           "xaxis": {
            "backgroundcolor": "#E5ECF6",
            "gridcolor": "white",
            "gridwidth": 2,
            "linecolor": "white",
            "showbackground": true,
            "ticks": "",
            "zerolinecolor": "white"
           },
           "yaxis": {
            "backgroundcolor": "#E5ECF6",
            "gridcolor": "white",
            "gridwidth": 2,
            "linecolor": "white",
            "showbackground": true,
            "ticks": "",
            "zerolinecolor": "white"
           },
           "zaxis": {
            "backgroundcolor": "#E5ECF6",
            "gridcolor": "white",
            "gridwidth": 2,
            "linecolor": "white",
            "showbackground": true,
            "ticks": "",
            "zerolinecolor": "white"
           }
          },
          "shapedefaults": {
           "line": {
            "color": "#2a3f5f"
           }
          },
          "ternary": {
           "aaxis": {
            "gridcolor": "white",
            "linecolor": "white",
            "ticks": ""
           },
           "baxis": {
            "gridcolor": "white",
            "linecolor": "white",
            "ticks": ""
           },
           "bgcolor": "#E5ECF6",
           "caxis": {
            "gridcolor": "white",
            "linecolor": "white",
            "ticks": ""
           }
          },
          "title": {
           "x": 0.05
          },
          "xaxis": {
           "automargin": true,
           "gridcolor": "white",
           "linecolor": "white",
           "ticks": "",
           "title": {
            "standoff": 15
           },
           "zerolinecolor": "white",
           "zerolinewidth": 2
          },
          "yaxis": {
           "automargin": true,
           "gridcolor": "white",
           "linecolor": "white",
           "ticks": "",
           "title": {
            "standoff": 15
           },
           "zerolinecolor": "white",
           "zerolinewidth": 2
          }
         }
        },
        "title": {
         "text": "TESLA, INC. (2020-01-01 to 2022-12-31) - Total Shares Acquired/Disposed by Insider"
        },
        "xaxis": {
         "anchor": "y",
         "domain": [
          0,
          1
         ],
         "title": {
          "text": "rptOwnerName"
         }
        },
        "yaxis": {
         "anchor": "x",
         "domain": [
          0,
          1
         ],
         "title": {
          "text": "value"
         }
        }
       }
      }
     },
     "metadata": {},
     "output_type": "display_data"
    },
    {
     "data": {
      "application/vnd.plotly.v1+json": {
       "config": {
        "plotlyServerURL": "https://plot.ly"
       },
       "data": [
        {
         "alignmentgroup": "True",
         "hovertemplate": "variable=D<br>rptOwnerName=%{x}<br>value=%{y}<extra></extra>",
         "legendgroup": "D",
         "marker": {
          "color": "#636EFA",
          "pattern": {
           "shape": ""
          }
         },
         "name": "D",
         "offsetgroup": "D",
         "orientation": "v",
         "showlegend": true,
         "textposition": "auto",
         "type": "bar",
         "x": [
          "Baglino Andrew D",
          "DENHOLM ROBYN M",
          "Ehrenpreis Ira Matthew",
          "Gracias Antonio J.",
          "Guillen Jerome M",
          "Kirkhorn Zachary",
          "Mizuno Hiromichi",
          "Musk Elon",
          "Musk Kimbal",
          "Taneja Vaibhav",
          "Wilson-Thompson Kathleen"
         ],
         "xaxis": "x",
         "y": [
          2692888,
          951746,
          0,
          360811,
          3911119,
          711521,
          26224,
          140235370,
          771925,
          2557696,
          1765440
         ],
         "yaxis": "y"
        }
       ],
       "layout": {
        "barmode": "stack",
        "legend": {
         "title": {
          "text": "variable"
         },
         "tracegroupgap": 0
        },
        "template": {
         "data": {
          "bar": [
           {
            "error_x": {
             "color": "#2a3f5f"
            },
            "error_y": {
             "color": "#2a3f5f"
            },
            "marker": {
             "line": {
              "color": "#E5ECF6",
              "width": 0.5
             },
             "pattern": {
              "fillmode": "overlay",
              "size": 10,
              "solidity": 0.2
             }
            },
            "type": "bar"
           }
          ],
          "barpolar": [
           {
            "marker": {
             "line": {
              "color": "#E5ECF6",
              "width": 0.5
             },
             "pattern": {
              "fillmode": "overlay",
              "size": 10,
              "solidity": 0.2
             }
            },
            "type": "barpolar"
           }
          ],
          "carpet": [
           {
            "aaxis": {
             "endlinecolor": "#2a3f5f",
             "gridcolor": "white",
             "linecolor": "white",
             "minorgridcolor": "white",
             "startlinecolor": "#2a3f5f"
            },
            "baxis": {
             "endlinecolor": "#2a3f5f",
             "gridcolor": "white",
             "linecolor": "white",
             "minorgridcolor": "white",
             "startlinecolor": "#2a3f5f"
            },
            "type": "carpet"
           }
          ],
          "choropleth": [
           {
            "colorbar": {
             "outlinewidth": 0,
             "ticks": ""
            },
            "type": "choropleth"
           }
          ],
          "contour": [
           {
            "colorbar": {
             "outlinewidth": 0,
             "ticks": ""
            },
            "colorscale": [
             [
              0,
              "#0d0887"
             ],
             [
              0.1111111111111111,
              "#46039f"
             ],
             [
              0.2222222222222222,
              "#7201a8"
             ],
             [
              0.3333333333333333,
              "#9c179e"
             ],
             [
              0.4444444444444444,
              "#bd3786"
             ],
             [
              0.5555555555555556,
              "#d8576b"
             ],
             [
              0.6666666666666666,
              "#ed7953"
             ],
             [
              0.7777777777777778,
              "#fb9f3a"
             ],
             [
              0.8888888888888888,
              "#fdca26"
             ],
             [
              1,
              "#f0f921"
             ]
            ],
            "type": "contour"
           }
          ],
          "contourcarpet": [
           {
            "colorbar": {
             "outlinewidth": 0,
             "ticks": ""
            },
            "type": "contourcarpet"
           }
          ],
          "heatmap": [
           {
            "colorbar": {
             "outlinewidth": 0,
             "ticks": ""
            },
            "colorscale": [
             [
              0,
              "#0d0887"
             ],
             [
              0.1111111111111111,
              "#46039f"
             ],
             [
              0.2222222222222222,
              "#7201a8"
             ],
             [
              0.3333333333333333,
              "#9c179e"
             ],
             [
              0.4444444444444444,
              "#bd3786"
             ],
             [
              0.5555555555555556,
              "#d8576b"
             ],
             [
              0.6666666666666666,
              "#ed7953"
             ],
             [
              0.7777777777777778,
              "#fb9f3a"
             ],
             [
              0.8888888888888888,
              "#fdca26"
             ],
             [
              1,
              "#f0f921"
             ]
            ],
            "type": "heatmap"
           }
          ],
          "heatmapgl": [
           {
            "colorbar": {
             "outlinewidth": 0,
             "ticks": ""
            },
            "colorscale": [
             [
              0,
              "#0d0887"
             ],
             [
              0.1111111111111111,
              "#46039f"
             ],
             [
              0.2222222222222222,
              "#7201a8"
             ],
             [
              0.3333333333333333,
              "#9c179e"
             ],
             [
              0.4444444444444444,
              "#bd3786"
             ],
             [
              0.5555555555555556,
              "#d8576b"
             ],
             [
              0.6666666666666666,
              "#ed7953"
             ],
             [
              0.7777777777777778,
              "#fb9f3a"
             ],
             [
              0.8888888888888888,
              "#fdca26"
             ],
             [
              1,
              "#f0f921"
             ]
            ],
            "type": "heatmapgl"
           }
          ],
          "histogram": [
           {
            "marker": {
             "pattern": {
              "fillmode": "overlay",
              "size": 10,
              "solidity": 0.2
             }
            },
            "type": "histogram"
           }
          ],
          "histogram2d": [
           {
            "colorbar": {
             "outlinewidth": 0,
             "ticks": ""
            },
            "colorscale": [
             [
              0,
              "#0d0887"
             ],
             [
              0.1111111111111111,
              "#46039f"
             ],
             [
              0.2222222222222222,
              "#7201a8"
             ],
             [
              0.3333333333333333,
              "#9c179e"
             ],
             [
              0.4444444444444444,
              "#bd3786"
             ],
             [
              0.5555555555555556,
              "#d8576b"
             ],
             [
              0.6666666666666666,
              "#ed7953"
             ],
             [
              0.7777777777777778,
              "#fb9f3a"
             ],
             [
              0.8888888888888888,
              "#fdca26"
             ],
             [
              1,
              "#f0f921"
             ]
            ],
            "type": "histogram2d"
           }
          ],
          "histogram2dcontour": [
           {
            "colorbar": {
             "outlinewidth": 0,
             "ticks": ""
            },
            "colorscale": [
             [
              0,
              "#0d0887"
             ],
             [
              0.1111111111111111,
              "#46039f"
             ],
             [
              0.2222222222222222,
              "#7201a8"
             ],
             [
              0.3333333333333333,
              "#9c179e"
             ],
             [
              0.4444444444444444,
              "#bd3786"
             ],
             [
              0.5555555555555556,
              "#d8576b"
             ],
             [
              0.6666666666666666,
              "#ed7953"
             ],
             [
              0.7777777777777778,
              "#fb9f3a"
             ],
             [
              0.8888888888888888,
              "#fdca26"
             ],
             [
              1,
              "#f0f921"
             ]
            ],
            "type": "histogram2dcontour"
           }
          ],
          "mesh3d": [
           {
            "colorbar": {
             "outlinewidth": 0,
             "ticks": ""
            },
            "type": "mesh3d"
           }
          ],
          "parcoords": [
           {
            "line": {
             "colorbar": {
              "outlinewidth": 0,
              "ticks": ""
             }
            },
            "type": "parcoords"
           }
          ],
          "pie": [
           {
            "automargin": true,
            "type": "pie"
           }
          ],
          "scatter": [
           {
            "fillpattern": {
             "fillmode": "overlay",
             "size": 10,
             "solidity": 0.2
            },
            "type": "scatter"
           }
          ],
          "scatter3d": [
           {
            "line": {
             "colorbar": {
              "outlinewidth": 0,
              "ticks": ""
             }
            },
            "marker": {
             "colorbar": {
              "outlinewidth": 0,
              "ticks": ""
             }
            },
            "type": "scatter3d"
           }
          ],
          "scattercarpet": [
           {
            "marker": {
             "colorbar": {
              "outlinewidth": 0,
              "ticks": ""
             }
            },
            "type": "scattercarpet"
           }
          ],
          "scattergeo": [
           {
            "marker": {
             "colorbar": {
              "outlinewidth": 0,
              "ticks": ""
             }
            },
            "type": "scattergeo"
           }
          ],
          "scattergl": [
           {
            "marker": {
             "colorbar": {
              "outlinewidth": 0,
              "ticks": ""
             }
            },
            "type": "scattergl"
           }
          ],
          "scattermapbox": [
           {
            "marker": {
             "colorbar": {
              "outlinewidth": 0,
              "ticks": ""
             }
            },
            "type": "scattermapbox"
           }
          ],
          "scatterpolar": [
           {
            "marker": {
             "colorbar": {
              "outlinewidth": 0,
              "ticks": ""
             }
            },
            "type": "scatterpolar"
           }
          ],
          "scatterpolargl": [
           {
            "marker": {
             "colorbar": {
              "outlinewidth": 0,
              "ticks": ""
             }
            },
            "type": "scatterpolargl"
           }
          ],
          "scatterternary": [
           {
            "marker": {
             "colorbar": {
              "outlinewidth": 0,
              "ticks": ""
             }
            },
            "type": "scatterternary"
           }
          ],
          "surface": [
           {
            "colorbar": {
             "outlinewidth": 0,
             "ticks": ""
            },
            "colorscale": [
             [
              0,
              "#0d0887"
             ],
             [
              0.1111111111111111,
              "#46039f"
             ],
             [
              0.2222222222222222,
              "#7201a8"
             ],
             [
              0.3333333333333333,
              "#9c179e"
             ],
             [
              0.4444444444444444,
              "#bd3786"
             ],
             [
              0.5555555555555556,
              "#d8576b"
             ],
             [
              0.6666666666666666,
              "#ed7953"
             ],
             [
              0.7777777777777778,
              "#fb9f3a"
             ],
             [
              0.8888888888888888,
              "#fdca26"
             ],
             [
              1,
              "#f0f921"
             ]
            ],
            "type": "surface"
           }
          ],
          "table": [
           {
            "cells": {
             "fill": {
              "color": "#EBF0F8"
             },
             "line": {
              "color": "white"
             }
            },
            "header": {
             "fill": {
              "color": "#C8D4E3"
             },
             "line": {
              "color": "white"
             }
            },
            "type": "table"
           }
          ]
         },
         "layout": {
          "annotationdefaults": {
           "arrowcolor": "#2a3f5f",
           "arrowhead": 0,
           "arrowwidth": 1
          },
          "autotypenumbers": "strict",
          "coloraxis": {
           "colorbar": {
            "outlinewidth": 0,
            "ticks": ""
           }
          },
          "colorscale": {
           "diverging": [
            [
             0,
             "#8e0152"
            ],
            [
             0.1,
             "#c51b7d"
            ],
            [
             0.2,
             "#de77ae"
            ],
            [
             0.3,
             "#f1b6da"
            ],
            [
             0.4,
             "#fde0ef"
            ],
            [
             0.5,
             "#f7f7f7"
            ],
            [
             0.6,
             "#e6f5d0"
            ],
            [
             0.7,
             "#b8e186"
            ],
            [
             0.8,
             "#7fbc41"
            ],
            [
             0.9,
             "#4d9221"
            ],
            [
             1,
             "#276419"
            ]
           ],
           "sequential": [
            [
             0,
             "#0d0887"
            ],
            [
             0.1111111111111111,
             "#46039f"
            ],
            [
             0.2222222222222222,
             "#7201a8"
            ],
            [
             0.3333333333333333,
             "#9c179e"
            ],
            [
             0.4444444444444444,
             "#bd3786"
            ],
            [
             0.5555555555555556,
             "#d8576b"
            ],
            [
             0.6666666666666666,
             "#ed7953"
            ],
            [
             0.7777777777777778,
             "#fb9f3a"
            ],
            [
             0.8888888888888888,
             "#fdca26"
            ],
            [
             1,
             "#f0f921"
            ]
           ],
           "sequentialminus": [
            [
             0,
             "#0d0887"
            ],
            [
             0.1111111111111111,
             "#46039f"
            ],
            [
             0.2222222222222222,
             "#7201a8"
            ],
            [
             0.3333333333333333,
             "#9c179e"
            ],
            [
             0.4444444444444444,
             "#bd3786"
            ],
            [
             0.5555555555555556,
             "#d8576b"
            ],
            [
             0.6666666666666666,
             "#ed7953"
            ],
            [
             0.7777777777777778,
             "#fb9f3a"
            ],
            [
             0.8888888888888888,
             "#fdca26"
            ],
            [
             1,
             "#f0f921"
            ]
           ]
          },
          "colorway": [
           "#636efa",
           "#EF553B",
           "#00cc96",
           "#ab63fa",
           "#FFA15A",
           "#19d3f3",
           "#FF6692",
           "#B6E880",
           "#FF97FF",
           "#FECB52"
          ],
          "font": {
           "color": "#2a3f5f"
          },
          "geo": {
           "bgcolor": "white",
           "lakecolor": "white",
           "landcolor": "#E5ECF6",
           "showlakes": true,
           "showland": true,
           "subunitcolor": "white"
          },
          "hoverlabel": {
           "align": "left"
          },
          "hovermode": "closest",
          "mapbox": {
           "style": "light"
          },
          "paper_bgcolor": "white",
          "plot_bgcolor": "#E5ECF6",
          "polar": {
           "angularaxis": {
            "gridcolor": "white",
            "linecolor": "white",
            "ticks": ""
           },
           "bgcolor": "#E5ECF6",
           "radialaxis": {
            "gridcolor": "white",
            "linecolor": "white",
            "ticks": ""
           }
          },
          "scene": {
           "xaxis": {
            "backgroundcolor": "#E5ECF6",
            "gridcolor": "white",
            "gridwidth": 2,
            "linecolor": "white",
            "showbackground": true,
            "ticks": "",
            "zerolinecolor": "white"
           },
           "yaxis": {
            "backgroundcolor": "#E5ECF6",
            "gridcolor": "white",
            "gridwidth": 2,
            "linecolor": "white",
            "showbackground": true,
            "ticks": "",
            "zerolinecolor": "white"
           },
           "zaxis": {
            "backgroundcolor": "#E5ECF6",
            "gridcolor": "white",
            "gridwidth": 2,
            "linecolor": "white",
            "showbackground": true,
            "ticks": "",
            "zerolinecolor": "white"
           }
          },
          "shapedefaults": {
           "line": {
            "color": "#2a3f5f"
           }
          },
          "ternary": {
           "aaxis": {
            "gridcolor": "white",
            "linecolor": "white",
            "ticks": ""
           },
           "baxis": {
            "gridcolor": "white",
            "linecolor": "white",
            "ticks": ""
           },
           "bgcolor": "#E5ECF6",
           "caxis": {
            "gridcolor": "white",
            "linecolor": "white",
            "ticks": ""
           }
          },
          "title": {
           "x": 0.05
          },
          "xaxis": {
           "automargin": true,
           "gridcolor": "white",
           "linecolor": "white",
           "ticks": "",
           "title": {
            "standoff": 15
           },
           "zerolinecolor": "white",
           "zerolinewidth": 2
          },
          "yaxis": {
           "automargin": true,
           "gridcolor": "white",
           "linecolor": "white",
           "ticks": "",
           "title": {
            "standoff": 15
           },
           "zerolinecolor": "white",
           "zerolinewidth": 2
          }
         }
        },
        "title": {
         "text": "TESLA, INC. (2020-01-01 to 2022-12-31) - Insider Ownership"
        },
        "xaxis": {
         "anchor": "y",
         "domain": [
          0,
          1
         ],
         "title": {
          "text": "rptOwnerName"
         }
        },
        "yaxis": {
         "anchor": "x",
         "domain": [
          0,
          1
         ],
         "title": {
          "text": "value"
         }
        }
       }
      }
     },
     "metadata": {},
     "output_type": "display_data"
    },
    {
     "data": {
      "application/vnd.plotly.v1+json": {
       "config": {
        "plotlyServerURL": "https://plot.ly"
       },
       "data": [
        {
         "mode": "lines",
         "name": "Inside Trading Volume (A)",
         "type": "scatter",
         "x": [
          "2020-03-06T00:00:00",
          "2020-05-04T00:00:00",
          "2020-06-18T00:00:00",
          "2020-08-18T00:00:00",
          "2020-10-19T00:00:00",
          "2022-09-08T00:00:00"
         ],
         "xaxis": "x",
         "y": [
          185502.6627,
          329862.66229999997,
          1118795.0552,
          879435.6422,
          97475863.7131,
          7471537.6282
         ],
         "yaxis": "y"
        },
        {
         "mode": "lines",
         "name": "Inside Trading Volume (D)",
         "type": "scatter",
         "x": [
          "2020-01-02T00:00:00",
          "2020-02-03T00:00:00",
          "2020-02-14T00:00:00",
          "2020-02-20T00:00:00",
          "2020-02-21T00:00:00",
          "2020-03-05T00:00:00",
          "2020-04-13T00:00:00",
          "2020-04-30T00:00:00",
          "2020-05-06T00:00:00",
          "2020-05-11T00:00:00",
          "2020-05-15T00:00:00",
          "2020-06-01T00:00:00",
          "2020-06-05T00:00:00",
          "2020-06-08T00:00:00",
          "2020-06-10T00:00:00",
          "2020-07-01T00:00:00",
          "2020-07-10T00:00:00",
          "2020-07-20T00:00:00",
          "2020-07-27T00:00:00",
          "2020-07-30T00:00:00",
          "2020-07-31T00:00:00",
          "2020-08-03T00:00:00",
          "2020-08-10T00:00:00",
          "2020-08-31T00:00:00",
          "2020-09-01T00:00:00",
          "2020-09-03T00:00:00",
          "2020-09-05T00:00:00",
          "2020-09-10T00:00:00",
          "2020-09-30T00:00:00",
          "2020-10-01T00:00:00",
          "2020-10-05T00:00:00",
          "2020-10-12T00:00:00",
          "2020-10-26T00:00:00",
          "2020-10-27T00:00:00",
          "2020-10-30T00:00:00",
          "2020-11-10T00:00:00",
          "2020-11-16T00:00:00",
          "2020-11-30T00:00:00",
          "2020-12-05T00:00:00",
          "2020-12-07T00:00:00",
          "2020-12-10T00:00:00",
          "2020-12-28T00:00:00",
          "2020-12-31T00:00:00",
          "2021-01-06T00:00:00",
          "2021-01-11T00:00:00",
          "2021-01-27T00:00:00",
          "2021-02-08T00:00:00",
          "2021-02-10T00:00:00",
          "2021-03-01T00:00:00",
          "2021-03-05T00:00:00",
          "2021-03-10T00:00:00",
          "2021-03-29T00:00:00",
          "2021-04-01T00:00:00",
          "2021-04-05T00:00:00",
          "2021-04-12T00:00:00",
          "2021-04-26T00:00:00",
          "2021-04-27T00:00:00",
          "2021-05-10T00:00:00",
          "2021-05-27T00:00:00",
          "2021-06-05T00:00:00",
          "2021-06-28T00:00:00",
          "2021-07-06T00:00:00",
          "2021-07-27T00:00:00",
          "2021-08-02T00:00:00",
          "2021-08-06T00:00:00",
          "2021-08-27T00:00:00",
          "2021-09-01T00:00:00",
          "2021-09-05T00:00:00",
          "2021-09-27T00:00:00",
          "2021-10-18T00:00:00",
          "2021-10-27T00:00:00",
          "2021-11-01T00:00:00",
          "2021-11-05T00:00:00",
          "2021-11-08T00:00:00",
          "2021-11-15T00:00:00",
          "2021-11-16T00:00:00",
          "2021-11-23T00:00:00",
          "2021-12-02T00:00:00",
          "2021-12-05T00:00:00",
          "2021-12-09T00:00:00",
          "2021-12-13T00:00:00",
          "2021-12-16T00:00:00",
          "2021-12-21T00:00:00",
          "2021-12-22T00:00:00",
          "2021-12-27T00:00:00",
          "2021-12-28T00:00:00",
          "2021-12-31T00:00:00",
          "2022-01-05T00:00:00",
          "2022-01-27T00:00:00",
          "2022-02-01T00:00:00",
          "2022-02-28T00:00:00",
          "2022-03-01T00:00:00",
          "2022-03-05T00:00:00",
          "2022-03-28T00:00:00",
          "2022-04-05T00:00:00",
          "2022-04-27T00:00:00",
          "2022-05-02T00:00:00",
          "2022-05-27T00:00:00",
          "2022-06-01T00:00:00",
          "2022-06-05T00:00:00",
          "2022-06-10T00:00:00",
          "2022-06-27T00:00:00",
          "2022-07-25T00:00:00",
          "2022-07-27T00:00:00",
          "2022-07-29T00:00:00",
          "2022-08-01T00:00:00",
          "2022-08-29T00:00:00",
          "2022-09-05T00:00:00",
          "2022-09-27T00:00:00",
          "2022-10-27T00:00:00",
          "2022-11-28T00:00:00",
          "2022-12-05T00:00:00",
          "2022-12-27T00:00:00",
          "2022-12-28T00:00:00"
         ],
         "xaxis": "x",
         "y": [
          56827.3335,
          72982.9988,
          5861.0569,
          4793097.7065,
          115621.6112,
          174536.13999999998,
          8216.8667,
          123860.1006,
          103393.9972,
          37543.3333,
          5835.8667,
          503899.37509999995,
          176849.4475,
          30986.0001,
          13399.8665,
          221583.0002,
          19499.5331,
          85458.1988,
          394791.9922,
          2602953.6007,
          244835.8345,
          295418.9987,
          18955.6,
          1958854.1985,
          2432500.0763,
          2831445.8437,
          1551518.5554,
          126591.671,
          1779999.9237,
          2208250.0076,
          583573.6425000001,
          147886.6653,
          27665049.2565,
          2835333.4046,
          1638958.3111,
          81611.998,
          5934885.073,
          2421479.2252,
          2703974.3922,
          9098790.3734,
          1990149.9939,
          223699.9969,
          3262604.7602,
          1040784.9937000001,
          2763416.5955,
          291693.3289,
          43528697.6973,
          3837959.9915,
          234008.3389,
          2521043.6941,
          2288183.3649,
          202083.3359,
          2703680.0537,
          949466.2337,
          2311483.3069,
          15436562.5381,
          237891.6626,
          2154433.3649,
          207889.9994,
          2335857.833,
          227503.334,
          910297.6625,
          215623.3368,
          7423645.9732,
          2356600.0366,
          236183.3344,
          7673229.2175,
          2845225.3049,
          261385.0098,
          2014518.3105,
          129952639.7857,
          9701708.2214,
          10199458.313,
          836692115.7079,
          706273889.0703,
          725506178.999,
          804815674.2463,
          771470052.956,
          3514682.1961,
          745149637.6646,
          695976866.4331,
          687483853.5507,
          635606314.9001,
          692148654.9444,
          1276170.0363,
          569196233.2266,
          1139514.6484,
          2626575.0427,
          1029227.5085,
          7702916.7175,
          986749.2065,
          7265250.0153,
          2976926.6988,
          1255030.0064,
          2613531.6467,
          1047293.3426,
          8771949.920599999,
          863525.8255,
          6262083.2443,
          2340494.2397,
          584266.6626,
          865614.1777,
          6769333.2672,
          941004.1809,
          5052425.1175,
          2655085.4683,
          2984310.0128,
          7498626.3897,
          2972445.1218,
          2397465.0192,
          1929375,
          5146546.6314,
          1199257.5016,
          0
         ],
         "yaxis": "y"
        },
        {
         "name": "Stock Closing Price",
         "type": "scatter",
         "x": [
          "2020-01-02T00:00:00",
          "2020-02-03T00:00:00",
          "2020-02-14T00:00:00",
          "2020-02-20T00:00:00",
          "2020-02-20T00:00:00",
          "2020-02-20T00:00:00",
          "2020-02-20T00:00:00",
          "2020-02-20T00:00:00",
          "2020-02-20T00:00:00",
          "2020-02-20T00:00:00",
          "2020-02-20T00:00:00",
          "2020-02-21T00:00:00",
          "2020-02-21T00:00:00",
          "2020-03-05T00:00:00",
          "2020-03-05T00:00:00",
          "2020-03-05T00:00:00",
          "2020-03-05T00:00:00",
          "2020-03-05T00:00:00",
          "2020-03-05T00:00:00",
          "2020-03-05T00:00:00",
          "2020-03-05T00:00:00",
          "2020-03-05T00:00:00",
          "2020-03-05T00:00:00",
          "2020-03-05T00:00:00",
          "2020-03-05T00:00:00",
          "2020-03-05T00:00:00",
          "2020-03-05T00:00:00",
          "2020-03-05T00:00:00",
          "2020-03-05T00:00:00",
          "2020-03-05T00:00:00",
          "2020-03-06T00:00:00",
          "2020-04-13T00:00:00",
          "2020-04-30T00:00:00",
          "2020-05-04T00:00:00",
          "2020-05-04T00:00:00",
          "2020-05-06T00:00:00",
          "2020-05-11T00:00:00",
          "2020-05-11T00:00:00",
          "2020-05-11T00:00:00",
          "2020-05-11T00:00:00",
          "2020-05-15T00:00:00",
          "2020-06-01T00:00:00",
          "2020-06-01T00:00:00",
          "2020-06-05T00:00:00",
          "2020-06-05T00:00:00",
          "2020-06-05T00:00:00",
          "2020-06-05T00:00:00",
          "2020-06-05T00:00:00",
          "2020-06-05T00:00:00",
          "2020-06-05T00:00:00",
          "2020-06-05T00:00:00",
          "2020-06-05T00:00:00",
          "2020-06-05T00:00:00",
          "2020-06-05T00:00:00",
          "2020-06-05T00:00:00",
          "2020-06-05T00:00:00",
          "2020-06-05T00:00:00",
          "2020-06-05T00:00:00",
          "2020-06-05T00:00:00",
          "2020-06-08T00:00:00",
          "2020-06-10T00:00:00",
          "2020-06-18T00:00:00",
          "2020-07-01T00:00:00",
          "2020-07-10T00:00:00",
          "2020-07-20T00:00:00",
          "2020-07-20T00:00:00",
          "2020-07-27T00:00:00",
          "2020-07-30T00:00:00",
          "2020-07-30T00:00:00",
          "2020-07-30T00:00:00",
          "2020-07-31T00:00:00",
          "2020-08-03T00:00:00",
          "2020-08-10T00:00:00",
          "2020-08-18T00:00:00",
          "2020-08-18T00:00:00",
          "2020-08-31T00:00:00",
          "2020-09-01T00:00:00",
          "2020-09-03T00:00:00",
          "2020-09-05T00:00:00",
          "2020-09-05T00:00:00",
          "2020-09-05T00:00:00",
          "2020-09-05T00:00:00",
          "2020-09-05T00:00:00",
          "2020-09-05T00:00:00",
          "2020-09-05T00:00:00",
          "2020-09-05T00:00:00",
          "2020-09-05T00:00:00",
          "2020-09-05T00:00:00",
          "2020-09-05T00:00:00",
          "2020-09-05T00:00:00",
          "2020-09-05T00:00:00",
          "2020-09-05T00:00:00",
          "2020-09-10T00:00:00",
          "2020-09-30T00:00:00",
          "2020-10-01T00:00:00",
          "2020-10-05T00:00:00",
          "2020-10-05T00:00:00",
          "2020-10-12T00:00:00",
          "2020-10-19T00:00:00",
          "2020-10-19T00:00:00",
          "2020-10-19T00:00:00",
          "2020-10-19T00:00:00",
          "2020-10-19T00:00:00",
          "2020-10-19T00:00:00",
          "2020-10-26T00:00:00",
          "2020-10-26T00:00:00",
          "2020-10-26T00:00:00",
          "2020-10-27T00:00:00",
          "2020-10-27T00:00:00",
          "2020-10-30T00:00:00",
          "2020-11-10T00:00:00",
          "2020-11-16T00:00:00",
          "2020-11-30T00:00:00",
          "2020-12-05T00:00:00",
          "2020-12-05T00:00:00",
          "2020-12-05T00:00:00",
          "2020-12-05T00:00:00",
          "2020-12-05T00:00:00",
          "2020-12-05T00:00:00",
          "2020-12-05T00:00:00",
          "2020-12-05T00:00:00",
          "2020-12-05T00:00:00",
          "2020-12-05T00:00:00",
          "2020-12-05T00:00:00",
          "2020-12-05T00:00:00",
          "2020-12-05T00:00:00",
          "2020-12-07T00:00:00",
          "2020-12-10T00:00:00",
          "2020-12-28T00:00:00",
          "2020-12-31T00:00:00",
          "2021-01-06T00:00:00",
          "2021-01-06T00:00:00",
          "2021-01-11T00:00:00",
          "2021-01-27T00:00:00",
          "2021-01-27T00:00:00",
          "2021-02-08T00:00:00",
          "2021-02-08T00:00:00",
          "2021-02-10T00:00:00",
          "2021-02-10T00:00:00",
          "2021-03-01T00:00:00",
          "2021-03-05T00:00:00",
          "2021-03-05T00:00:00",
          "2021-03-05T00:00:00",
          "2021-03-05T00:00:00",
          "2021-03-05T00:00:00",
          "2021-03-05T00:00:00",
          "2021-03-05T00:00:00",
          "2021-03-05T00:00:00",
          "2021-03-05T00:00:00",
          "2021-03-05T00:00:00",
          "2021-03-05T00:00:00",
          "2021-03-05T00:00:00",
          "2021-03-05T00:00:00",
          "2021-03-10T00:00:00",
          "2021-03-29T00:00:00",
          "2021-04-01T00:00:00",
          "2021-04-05T00:00:00",
          "2021-04-05T00:00:00",
          "2021-04-12T00:00:00",
          "2021-04-26T00:00:00",
          "2021-04-27T00:00:00",
          "2021-05-10T00:00:00",
          "2021-05-27T00:00:00",
          "2021-06-05T00:00:00",
          "2021-06-05T00:00:00",
          "2021-06-05T00:00:00",
          "2021-06-05T00:00:00",
          "2021-06-05T00:00:00",
          "2021-06-05T00:00:00",
          "2021-06-05T00:00:00",
          "2021-06-05T00:00:00",
          "2021-06-05T00:00:00",
          "2021-06-05T00:00:00",
          "2021-06-05T00:00:00",
          "2021-06-05T00:00:00",
          "2021-06-28T00:00:00",
          "2021-06-28T00:00:00",
          "2021-07-06T00:00:00",
          "2021-07-06T00:00:00",
          "2021-07-27T00:00:00",
          "2021-08-02T00:00:00",
          "2021-08-06T00:00:00",
          "2021-08-27T00:00:00",
          "2021-09-01T00:00:00",
          "2021-09-05T00:00:00",
          "2021-09-05T00:00:00",
          "2021-09-05T00:00:00",
          "2021-09-05T00:00:00",
          "2021-09-05T00:00:00",
          "2021-09-05T00:00:00",
          "2021-09-05T00:00:00",
          "2021-09-05T00:00:00",
          "2021-09-05T00:00:00",
          "2021-09-05T00:00:00",
          "2021-09-05T00:00:00",
          "2021-09-27T00:00:00",
          "2021-10-18T00:00:00",
          "2021-10-27T00:00:00",
          "2021-10-27T00:00:00",
          "2021-10-27T00:00:00",
          "2021-11-01T00:00:00",
          "2021-11-05T00:00:00",
          "2021-11-08T00:00:00",
          "2021-11-15T00:00:00",
          "2021-11-16T00:00:00",
          "2021-11-23T00:00:00",
          "2021-12-02T00:00:00",
          "2021-12-05T00:00:00",
          "2021-12-05T00:00:00",
          "2021-12-05T00:00:00",
          "2021-12-05T00:00:00",
          "2021-12-05T00:00:00",
          "2021-12-05T00:00:00",
          "2021-12-05T00:00:00",
          "2021-12-05T00:00:00",
          "2021-12-05T00:00:00",
          "2021-12-09T00:00:00",
          "2021-12-13T00:00:00",
          "2021-12-16T00:00:00",
          "2021-12-21T00:00:00",
          "2021-12-22T00:00:00",
          "2021-12-27T00:00:00",
          "2021-12-28T00:00:00",
          "2021-12-31T00:00:00",
          "2022-01-05T00:00:00",
          "2022-01-27T00:00:00",
          "2022-02-01T00:00:00",
          "2022-02-28T00:00:00",
          "2022-03-01T00:00:00",
          "2022-03-05T00:00:00",
          "2022-03-05T00:00:00",
          "2022-03-05T00:00:00",
          "2022-03-05T00:00:00",
          "2022-03-05T00:00:00",
          "2022-03-05T00:00:00",
          "2022-03-05T00:00:00",
          "2022-03-05T00:00:00",
          "2022-03-05T00:00:00",
          "2022-03-28T00:00:00",
          "2022-04-05T00:00:00",
          "2022-04-27T00:00:00",
          "2022-05-02T00:00:00",
          "2022-05-02T00:00:00",
          "2022-05-27T00:00:00",
          "2022-06-01T00:00:00",
          "2022-06-05T00:00:00",
          "2022-06-05T00:00:00",
          "2022-06-05T00:00:00",
          "2022-06-05T00:00:00",
          "2022-06-05T00:00:00",
          "2022-06-05T00:00:00",
          "2022-06-05T00:00:00",
          "2022-06-05T00:00:00",
          "2022-06-10T00:00:00",
          "2022-06-27T00:00:00",
          "2022-07-25T00:00:00",
          "2022-07-27T00:00:00",
          "2022-07-29T00:00:00",
          "2022-08-01T00:00:00",
          "2022-08-29T00:00:00",
          "2022-09-05T00:00:00",
          "2022-09-05T00:00:00",
          "2022-09-05T00:00:00",
          "2022-09-05T00:00:00",
          "2022-09-05T00:00:00",
          "2022-09-05T00:00:00",
          "2022-09-05T00:00:00",
          "2022-09-08T00:00:00",
          "2022-09-27T00:00:00",
          "2022-10-27T00:00:00",
          "2022-11-28T00:00:00",
          "2022-12-05T00:00:00",
          "2022-12-05T00:00:00",
          "2022-12-05T00:00:00",
          "2022-12-05T00:00:00",
          "2022-12-05T00:00:00",
          "2022-12-05T00:00:00",
          "2022-12-05T00:00:00",
          "2022-12-27T00:00:00"
         ],
         "xaxis": "x",
         "y": [
          28.684,
          52,
          53.3353,
          59.9607,
          59.9607,
          59.9607,
          59.9607,
          59.9607,
          59.9607,
          59.9607,
          59.9607,
          60.0667,
          60.0667,
          48.3027,
          48.3027,
          48.3027,
          48.3027,
          48.3027,
          48.3027,
          48.3027,
          48.3027,
          48.3027,
          48.3027,
          48.3027,
          48.3027,
          48.3027,
          48.3027,
          48.3027,
          48.3027,
          48.3027,
          46.8987,
          43.3967,
          52.1253,
          50.746,
          50.746,
          52.172,
          54.086,
          54.086,
          54.086,
          54.086,
          53.278,
          59.8733,
          59.8733,
          59.044,
          59.044,
          59.044,
          59.044,
          59.044,
          59.044,
          59.044,
          59.044,
          59.044,
          59.044,
          59.044,
          59.044,
          59.044,
          59.044,
          59.044,
          59.044,
          63.328,
          68.3367,
          66.9307,
          74.642,
          102.9767,
          109.5333,
          109.5333,
          102.64,
          99.166,
          99.166,
          99.166,
          95.384,
          99,
          94.5713,
          125.806,
          125.806,
          166.1067,
          158.35,
          135.6667,
          110.07,
          110.07,
          110.07,
          110.07,
          110.07,
          110.07,
          110.07,
          110.07,
          110.07,
          110.07,
          110.07,
          110.07,
          110.07,
          110.07,
          123.78,
          143.0033,
          149.3867,
          141.8933,
          141.8933,
          147.4333,
          143.61,
          143.61,
          143.61,
          143.61,
          143.61,
          143.61,
          140.0933,
          140.0933,
          140.0933,
          141.56,
          141.56,
          129.3467,
          136.7867,
          136.03,
          189.2,
          213.92,
          213.92,
          213.92,
          213.92,
          213.92,
          213.92,
          213.92,
          213.92,
          213.92,
          213.92,
          213.92,
          213.92,
          213.92,
          213.92,
          209.0233,
          221.23,
          235.2233,
          251.9933,
          251.9933,
          270.3967,
          288.0533,
          288.0533,
          287.8067,
          287.8067,
          268.2733,
          268.2733,
          239.4767,
          199.3167,
          199.3167,
          199.3167,
          199.3167,
          199.3167,
          199.3167,
          199.3167,
          199.3167,
          199.3167,
          199.3167,
          199.3167,
          199.3167,
          199.3167,
          222.6867,
          203.7633,
          220.5833,
          230.35,
          230.35,
          233.9933,
          246.0667,
          234.9133,
          209.68,
          210.2833,
          201.71,
          201.71,
          201.71,
          201.71,
          201.71,
          201.71,
          201.71,
          201.71,
          201.71,
          201.71,
          201.71,
          201.71,
          229.5733,
          229.5733,
          219.86,
          219.86,
          214.9267,
          236.5567,
          233.0333,
          237.3067,
          244.6967,
          250.9733,
          250.9733,
          250.9733,
          250.9733,
          250.9733,
          250.9733,
          250.9733,
          250.9733,
          250.9733,
          250.9733,
          250.9733,
          263.7867,
          290.0367,
          345.9533,
          345.9533,
          345.9533,
          402.8633,
          407.3633,
          387.6467,
          337.7967,
          351.5767,
          369.6767,
          361.5333,
          336.3367,
          336.3367,
          336.3367,
          336.3367,
          336.3367,
          336.3367,
          336.3367,
          336.3367,
          336.3367,
          334.6,
          322.1367,
          308.9733,
          312.8433,
          336.29,
          364.6467,
          362.8233,
          352.26,
          362.7067,
          276.3667,
          310.4167,
          290.1433,
          288.1233,
          268.1933,
          268.1933,
          268.1933,
          268.1933,
          268.1933,
          268.1933,
          268.1933,
          268.1933,
          268.1933,
          363.9467,
          363.7533,
          293.8367,
          300.98,
          300.98,
          253.21,
          246.79,
          238.28,
          238.28,
          238.28,
          238.28,
          238.28,
          238.28,
          238.28,
          238.28,
          232.23,
          244.92,
          268.4333,
          274.82,
          297.15,
          297.2767,
          284.82,
          274.42,
          274.42,
          274.42,
          274.42,
          274.42,
          274.42,
          274.42,
          289.26,
          282.94,
          225.09,
          182.92,
          182.45,
          182.45,
          182.45,
          182.45,
          182.45,
          182.45,
          182.45,
          109.1
         ],
         "yaxis": "y2"
        }
       ],
       "layout": {
        "template": {
         "data": {
          "bar": [
           {
            "error_x": {
             "color": "#2a3f5f"
            },
            "error_y": {
             "color": "#2a3f5f"
            },
            "marker": {
             "line": {
              "color": "#E5ECF6",
              "width": 0.5
             },
             "pattern": {
              "fillmode": "overlay",
              "size": 10,
              "solidity": 0.2
             }
            },
            "type": "bar"
           }
          ],
          "barpolar": [
           {
            "marker": {
             "line": {
              "color": "#E5ECF6",
              "width": 0.5
             },
             "pattern": {
              "fillmode": "overlay",
              "size": 10,
              "solidity": 0.2
             }
            },
            "type": "barpolar"
           }
          ],
          "carpet": [
           {
            "aaxis": {
             "endlinecolor": "#2a3f5f",
             "gridcolor": "white",
             "linecolor": "white",
             "minorgridcolor": "white",
             "startlinecolor": "#2a3f5f"
            },
            "baxis": {
             "endlinecolor": "#2a3f5f",
             "gridcolor": "white",
             "linecolor": "white",
             "minorgridcolor": "white",
             "startlinecolor": "#2a3f5f"
            },
            "type": "carpet"
           }
          ],
          "choropleth": [
           {
            "colorbar": {
             "outlinewidth": 0,
             "ticks": ""
            },
            "type": "choropleth"
           }
          ],
          "contour": [
           {
            "colorbar": {
             "outlinewidth": 0,
             "ticks": ""
            },
            "colorscale": [
             [
              0,
              "#0d0887"
             ],
             [
              0.1111111111111111,
              "#46039f"
             ],
             [
              0.2222222222222222,
              "#7201a8"
             ],
             [
              0.3333333333333333,
              "#9c179e"
             ],
             [
              0.4444444444444444,
              "#bd3786"
             ],
             [
              0.5555555555555556,
              "#d8576b"
             ],
             [
              0.6666666666666666,
              "#ed7953"
             ],
             [
              0.7777777777777778,
              "#fb9f3a"
             ],
             [
              0.8888888888888888,
              "#fdca26"
             ],
             [
              1,
              "#f0f921"
             ]
            ],
            "type": "contour"
           }
          ],
          "contourcarpet": [
           {
            "colorbar": {
             "outlinewidth": 0,
             "ticks": ""
            },
            "type": "contourcarpet"
           }
          ],
          "heatmap": [
           {
            "colorbar": {
             "outlinewidth": 0,
             "ticks": ""
            },
            "colorscale": [
             [
              0,
              "#0d0887"
             ],
             [
              0.1111111111111111,
              "#46039f"
             ],
             [
              0.2222222222222222,
              "#7201a8"
             ],
             [
              0.3333333333333333,
              "#9c179e"
             ],
             [
              0.4444444444444444,
              "#bd3786"
             ],
             [
              0.5555555555555556,
              "#d8576b"
             ],
             [
              0.6666666666666666,
              "#ed7953"
             ],
             [
              0.7777777777777778,
              "#fb9f3a"
             ],
             [
              0.8888888888888888,
              "#fdca26"
             ],
             [
              1,
              "#f0f921"
             ]
            ],
            "type": "heatmap"
           }
          ],
          "heatmapgl": [
           {
            "colorbar": {
             "outlinewidth": 0,
             "ticks": ""
            },
            "colorscale": [
             [
              0,
              "#0d0887"
             ],
             [
              0.1111111111111111,
              "#46039f"
             ],
             [
              0.2222222222222222,
              "#7201a8"
             ],
             [
              0.3333333333333333,
              "#9c179e"
             ],
             [
              0.4444444444444444,
              "#bd3786"
             ],
             [
              0.5555555555555556,
              "#d8576b"
             ],
             [
              0.6666666666666666,
              "#ed7953"
             ],
             [
              0.7777777777777778,
              "#fb9f3a"
             ],
             [
              0.8888888888888888,
              "#fdca26"
             ],
             [
              1,
              "#f0f921"
             ]
            ],
            "type": "heatmapgl"
           }
          ],
          "histogram": [
           {
            "marker": {
             "pattern": {
              "fillmode": "overlay",
              "size": 10,
              "solidity": 0.2
             }
            },
            "type": "histogram"
           }
          ],
          "histogram2d": [
           {
            "colorbar": {
             "outlinewidth": 0,
             "ticks": ""
            },
            "colorscale": [
             [
              0,
              "#0d0887"
             ],
             [
              0.1111111111111111,
              "#46039f"
             ],
             [
              0.2222222222222222,
              "#7201a8"
             ],
             [
              0.3333333333333333,
              "#9c179e"
             ],
             [
              0.4444444444444444,
              "#bd3786"
             ],
             [
              0.5555555555555556,
              "#d8576b"
             ],
             [
              0.6666666666666666,
              "#ed7953"
             ],
             [
              0.7777777777777778,
              "#fb9f3a"
             ],
             [
              0.8888888888888888,
              "#fdca26"
             ],
             [
              1,
              "#f0f921"
             ]
            ],
            "type": "histogram2d"
           }
          ],
          "histogram2dcontour": [
           {
            "colorbar": {
             "outlinewidth": 0,
             "ticks": ""
            },
            "colorscale": [
             [
              0,
              "#0d0887"
             ],
             [
              0.1111111111111111,
              "#46039f"
             ],
             [
              0.2222222222222222,
              "#7201a8"
             ],
             [
              0.3333333333333333,
              "#9c179e"
             ],
             [
              0.4444444444444444,
              "#bd3786"
             ],
             [
              0.5555555555555556,
              "#d8576b"
             ],
             [
              0.6666666666666666,
              "#ed7953"
             ],
             [
              0.7777777777777778,
              "#fb9f3a"
             ],
             [
              0.8888888888888888,
              "#fdca26"
             ],
             [
              1,
              "#f0f921"
             ]
            ],
            "type": "histogram2dcontour"
           }
          ],
          "mesh3d": [
           {
            "colorbar": {
             "outlinewidth": 0,
             "ticks": ""
            },
            "type": "mesh3d"
           }
          ],
          "parcoords": [
           {
            "line": {
             "colorbar": {
              "outlinewidth": 0,
              "ticks": ""
             }
            },
            "type": "parcoords"
           }
          ],
          "pie": [
           {
            "automargin": true,
            "type": "pie"
           }
          ],
          "scatter": [
           {
            "fillpattern": {
             "fillmode": "overlay",
             "size": 10,
             "solidity": 0.2
            },
            "type": "scatter"
           }
          ],
          "scatter3d": [
           {
            "line": {
             "colorbar": {
              "outlinewidth": 0,
              "ticks": ""
             }
            },
            "marker": {
             "colorbar": {
              "outlinewidth": 0,
              "ticks": ""
             }
            },
            "type": "scatter3d"
           }
          ],
          "scattercarpet": [
           {
            "marker": {
             "colorbar": {
              "outlinewidth": 0,
              "ticks": ""
             }
            },
            "type": "scattercarpet"
           }
          ],
          "scattergeo": [
           {
            "marker": {
             "colorbar": {
              "outlinewidth": 0,
              "ticks": ""
             }
            },
            "type": "scattergeo"
           }
          ],
          "scattergl": [
           {
            "marker": {
             "colorbar": {
              "outlinewidth": 0,
              "ticks": ""
             }
            },
            "type": "scattergl"
           }
          ],
          "scattermapbox": [
           {
            "marker": {
             "colorbar": {
              "outlinewidth": 0,
              "ticks": ""
             }
            },
            "type": "scattermapbox"
           }
          ],
          "scatterpolar": [
           {
            "marker": {
             "colorbar": {
              "outlinewidth": 0,
              "ticks": ""
             }
            },
            "type": "scatterpolar"
           }
          ],
          "scatterpolargl": [
           {
            "marker": {
             "colorbar": {
              "outlinewidth": 0,
              "ticks": ""
             }
            },
            "type": "scatterpolargl"
           }
          ],
          "scatterternary": [
           {
            "marker": {
             "colorbar": {
              "outlinewidth": 0,
              "ticks": ""
             }
            },
            "type": "scatterternary"
           }
          ],
          "surface": [
           {
            "colorbar": {
             "outlinewidth": 0,
             "ticks": ""
            },
            "colorscale": [
             [
              0,
              "#0d0887"
             ],
             [
              0.1111111111111111,
              "#46039f"
             ],
             [
              0.2222222222222222,
              "#7201a8"
             ],
             [
              0.3333333333333333,
              "#9c179e"
             ],
             [
              0.4444444444444444,
              "#bd3786"
             ],
             [
              0.5555555555555556,
              "#d8576b"
             ],
             [
              0.6666666666666666,
              "#ed7953"
             ],
             [
              0.7777777777777778,
              "#fb9f3a"
             ],
             [
              0.8888888888888888,
              "#fdca26"
             ],
             [
              1,
              "#f0f921"
             ]
            ],
            "type": "surface"
           }
          ],
          "table": [
           {
            "cells": {
             "fill": {
              "color": "#EBF0F8"
             },
             "line": {
              "color": "white"
             }
            },
            "header": {
             "fill": {
              "color": "#C8D4E3"
             },
             "line": {
              "color": "white"
             }
            },
            "type": "table"
           }
          ]
         },
         "layout": {
          "annotationdefaults": {
           "arrowcolor": "#2a3f5f",
           "arrowhead": 0,
           "arrowwidth": 1
          },
          "autotypenumbers": "strict",
          "coloraxis": {
           "colorbar": {
            "outlinewidth": 0,
            "ticks": ""
           }
          },
          "colorscale": {
           "diverging": [
            [
             0,
             "#8e0152"
            ],
            [
             0.1,
             "#c51b7d"
            ],
            [
             0.2,
             "#de77ae"
            ],
            [
             0.3,
             "#f1b6da"
            ],
            [
             0.4,
             "#fde0ef"
            ],
            [
             0.5,
             "#f7f7f7"
            ],
            [
             0.6,
             "#e6f5d0"
            ],
            [
             0.7,
             "#b8e186"
            ],
            [
             0.8,
             "#7fbc41"
            ],
            [
             0.9,
             "#4d9221"
            ],
            [
             1,
             "#276419"
            ]
           ],
           "sequential": [
            [
             0,
             "#0d0887"
            ],
            [
             0.1111111111111111,
             "#46039f"
            ],
            [
             0.2222222222222222,
             "#7201a8"
            ],
            [
             0.3333333333333333,
             "#9c179e"
            ],
            [
             0.4444444444444444,
             "#bd3786"
            ],
            [
             0.5555555555555556,
             "#d8576b"
            ],
            [
             0.6666666666666666,
             "#ed7953"
            ],
            [
             0.7777777777777778,
             "#fb9f3a"
            ],
            [
             0.8888888888888888,
             "#fdca26"
            ],
            [
             1,
             "#f0f921"
            ]
           ],
           "sequentialminus": [
            [
             0,
             "#0d0887"
            ],
            [
             0.1111111111111111,
             "#46039f"
            ],
            [
             0.2222222222222222,
             "#7201a8"
            ],
            [
             0.3333333333333333,
             "#9c179e"
            ],
            [
             0.4444444444444444,
             "#bd3786"
            ],
            [
             0.5555555555555556,
             "#d8576b"
            ],
            [
             0.6666666666666666,
             "#ed7953"
            ],
            [
             0.7777777777777778,
             "#fb9f3a"
            ],
            [
             0.8888888888888888,
             "#fdca26"
            ],
            [
             1,
             "#f0f921"
            ]
           ]
          },
          "colorway": [
           "#636efa",
           "#EF553B",
           "#00cc96",
           "#ab63fa",
           "#FFA15A",
           "#19d3f3",
           "#FF6692",
           "#B6E880",
           "#FF97FF",
           "#FECB52"
          ],
          "font": {
           "color": "#2a3f5f"
          },
          "geo": {
           "bgcolor": "white",
           "lakecolor": "white",
           "landcolor": "#E5ECF6",
           "showlakes": true,
           "showland": true,
           "subunitcolor": "white"
          },
          "hoverlabel": {
           "align": "left"
          },
          "hovermode": "closest",
          "mapbox": {
           "style": "light"
          },
          "paper_bgcolor": "white",
          "plot_bgcolor": "#E5ECF6",
          "polar": {
           "angularaxis": {
            "gridcolor": "white",
            "linecolor": "white",
            "ticks": ""
           },
           "bgcolor": "#E5ECF6",
           "radialaxis": {
            "gridcolor": "white",
            "linecolor": "white",
            "ticks": ""
           }
          },
          "scene": {
           "xaxis": {
            "backgroundcolor": "#E5ECF6",
            "gridcolor": "white",
            "gridwidth": 2,
            "linecolor": "white",
            "showbackground": true,
            "ticks": "",
            "zerolinecolor": "white"
           },
           "yaxis": {
            "backgroundcolor": "#E5ECF6",
            "gridcolor": "white",
            "gridwidth": 2,
            "linecolor": "white",
            "showbackground": true,
            "ticks": "",
            "zerolinecolor": "white"
           },
           "zaxis": {
            "backgroundcolor": "#E5ECF6",
            "gridcolor": "white",
            "gridwidth": 2,
            "linecolor": "white",
            "showbackground": true,
            "ticks": "",
            "zerolinecolor": "white"
           }
          },
          "shapedefaults": {
           "line": {
            "color": "#2a3f5f"
           }
          },
          "ternary": {
           "aaxis": {
            "gridcolor": "white",
            "linecolor": "white",
            "ticks": ""
           },
           "baxis": {
            "gridcolor": "white",
            "linecolor": "white",
            "ticks": ""
           },
           "bgcolor": "#E5ECF6",
           "caxis": {
            "gridcolor": "white",
            "linecolor": "white",
            "ticks": ""
           }
          },
          "title": {
           "x": 0.05
          },
          "xaxis": {
           "automargin": true,
           "gridcolor": "white",
           "linecolor": "white",
           "ticks": "",
           "title": {
            "standoff": 15
           },
           "zerolinecolor": "white",
           "zerolinewidth": 2
          },
          "yaxis": {
           "automargin": true,
           "gridcolor": "white",
           "linecolor": "white",
           "ticks": "",
           "title": {
            "standoff": 15
           },
           "zerolinecolor": "white",
           "zerolinewidth": 2
          }
         }
        },
        "title": {
         "text": "TESLA, INC. - Inside Trading Volume (Acquired | Disposed) and Stock Closing Price Over Time"
        },
        "xaxis": {
         "anchor": "y",
         "domain": [
          0,
          0.94
         ],
         "title": {
          "text": "Date"
         }
        },
        "yaxis": {
         "anchor": "x",
         "domain": [
          0,
          1
         ],
         "title": {
          "text": "Inside Trading Volume"
         }
        },
        "yaxis2": {
         "anchor": "x",
         "overlaying": "y",
         "side": "right",
         "title": {
          "text": "Stock Closing Price"
         }
        }
       }
      }
     },
     "metadata": {},
     "output_type": "display_data"
    }
   ],
   "source": [
    "from ClassTradingData import TradingData\n",
    "\n",
    "cik = '1318605'\n",
    "start_date = '2020-01-01'\n",
    "end_date = '2022-12-31'\n",
    "days_range = 0\n",
    "\n",
    "tesla = TradingData(cik, start_date=start_date, end_date=end_date, days_range=days_range)\n",
    "tesla.stacked_bar_acquired_disposed_by_insider()\n",
    "tesla.stacked_bar_insider_ownership()\n",
    "tesla.plot_inside_trading_impact()"
   ]
  },
  {
   "cell_type": "code",
   "execution_count": 4,
   "metadata": {},
   "outputs": [
    {
     "name": "stdout",
     "output_type": "stream",
     "text": [
      "CIK: '1318605'| Found 0 new operations.\n",
      "Incoming df: 0\n",
      "Existing df: 120\n",
      "CIK: '320193'| Found 0 new operations.\n",
      "Incoming df: 0\n",
      "Existing df: 74\n",
      "CIK: '1045810'| Found 0 new operations.\n",
      "Incoming df: 0\n",
      "Existing df: 18\n",
      "CIK: '1018724'| Found 0 new operations.\n",
      "Incoming df: 0\n",
      "Existing df: 97\n",
      "CIK: '1326801'| Found 0 new operations.\n",
      "Incoming df: 0\n",
      "Existing df: 563\n",
      "CIK: '789019'| Found 0 new operations.\n",
      "Incoming df: 0\n",
      "Existing df: 102\n",
      "CIK: '1652044'| Found 0 new operations.\n",
      "Incoming df: 0\n",
      "Existing df: 107\n",
      "CIK: '1647639'| Found 0 new operations.\n",
      "Incoming df: 0\n",
      "Existing df: 112\n",
      "CIK: '1682852'| Found 0 new operations.\n",
      "Incoming df: 0\n",
      "Existing df: 415\n",
      "CIK: '1535527'| Found 0 new operations.\n",
      "Incoming df: 0\n",
      "Existing df: 199\n"
     ]
    }
   ],
   "source": [
    "from main import parallel_extract_form4_data\n",
    "start_date = '2021-06-01'\n",
    "end_date = None\n",
    "days_range = 0\n",
    "\n",
    "ciks = ['1318605', '320193', '1045810', '1018724', '789019', '1326801', '1652044', '1682852', '1647639', '1535527', '1818874', '1783879', '1633917', '2488', '0000320193', '0001018724', '0001288776', '0001652044', '0000789019', '0001318605', '0001372612', '0000072903', '0000919087', '0001054374', '0000789019', '0001108524', '0001588308', '0001045810', '0001403161', '0001114446', '0000108772', '0001029800', '0001657041', '0001122976', '0000707389', '0001364742', '0001318605', '0001439404', '0001075531', '0001608552',\n",
    "        '0001583803', '0001166126', '0001090872', '0001512673', '0001090872', '0001580052', '0001160308', '0001101239', '0000815094', '0000922689', '0001006432', '0001326801', '0001335197', '0000789019', '0001018724', '0001015739', '0000850462', '0001326801', '0001030865', '0001526520', '0001588308', '0001271024', '0001086222', '0001114128', '0000934549', '0001280452', '0001114446']\n",
    "ciks = ciks[0:10]\n",
    "parallel_extract_form4_data(ciks, start_date, end_date, days_range, parallel_exc=2)"
   ]
  },
  {
   "cell_type": "code",
   "execution_count": 5,
   "metadata": {},
   "outputs": [
    {
     "name": "stdout",
     "output_type": "stream",
     "text": [
      "CIK: '1318605'| Found 0 new operations.\n",
      "Incoming df: 0\n",
      "Existing df: 45\n",
      "[*********************100%***********************]  1 of 1 completed\n",
      "Existing df: 3019\n",
      "CIK: '320193'| Found 0 new operations.\n",
      "Incoming df: 0\n",
      "Existing df: 39\n",
      "[*********************100%***********************]  1 of 1 completed\n",
      "Existing df: 3019\n",
      "CIK: '1045810'| Found 0 new operations.\n",
      "Incoming df: 0\n",
      "Existing df: 6\n",
      "[*********************100%***********************]  1 of 1 completed\n",
      "Existing df: 3019\n",
      "CIK: '1018724'| Found 0 new operations.\n",
      "Incoming df: 0\n",
      "Existing df: 53\n",
      "[*********************100%***********************]  1 of 1 completed\n",
      "Existing df: 3019\n",
      "CIK: '1326801'| Found 0 new operations.\n",
      "Incoming df: 0\n",
      "CIK: '789019'| Found 0 new operations.\n",
      "Incoming df: 0\n",
      "Existing df: 215\n",
      "Existing df: 55\n",
      "[*********************100%***********************]  1 of 1 completed\n",
      "[*********************100%***********************]  1 of 1 completed\n",
      "Existing df: 3019\n",
      "[*********************100%***********************]  1 of 1 completed\n",
      "\n",
      "1 Failed download:\n",
      "- FB: No timezone found, symbol may be delisted\n",
      "Existing df: 3019\n",
      "CIK: '1682852'| Found 0 new operations.\n",
      "Incoming df: 0\n",
      "Existing df: 213\n",
      "CIK: '1652044'| Found 0 new operations.\n",
      "Incoming df: 0\n",
      "Existing df: 16\n",
      "[*********************100%***********************]  1 of 1 completed\n",
      "\n",
      "1 Failed download:\n",
      "- DUOL: No data found for this date range, symbol may be delisted\n",
      "[*********************100%***********************]  1 of 1 completed\n",
      "Existing df: 3019\n",
      "[*********************100%***********************]  1 of 1 completed\n",
      "CIK: '1647639'| Found 0 new operations.\n",
      "Incoming df: 0\n",
      "Existing df: 48\n",
      "[*********************100%***********************]  1 of 1 completed\n",
      "\n",
      "1 Failed download:\n",
      "- PRME: No data found for this date range, symbol may be delisted\n",
      "Existing df: 3019\n",
      "[*********************100%***********************]  1 of 1 completed\n",
      "Existing df: 3019\n",
      "CIK: '1535527'| Found 0 new operations.\n",
      "Incoming df: 0\n",
      "Existing df: 76\n",
      "[*********************100%***********************]  1 of 1 completed\n",
      "Existing df: 3019\n"
     ]
    }
   ],
   "source": [
    "from main import parallel_extract_trading_data\n",
    "start_date = None\n",
    "end_date = None\n",
    "days_range = 365\n",
    "\n",
    "ciks = ['1318605', '320193', '1045810', '1018724', '789019', '1326801', '1652044', '1682852', '1647639', '1535527', '1818874', '1783879', '1633917', '2488', '0000320193', '0001018724', '0001288776', '0001652044', '0000789019', '0001318605', '0001372612', '0000072903', '0000919087', '0001054374', '0000789019', '0001108524', '0001588308', '0001045810', '0001403161', '0001114446', '0000108772', '0001029800', '0001657041', '0001122976', '0000707389', '0001364742', '0001318605', '0001439404', '0001075531', '0001608552',\n",
    "        '0001583803', '0001166126', '0001090872', '0001512673', '0001090872', '0001580052', '0001160308', '0001101239', '0000815094', '0000922689', '0001006432', '0001326801', '0001335197', '0000789019', '0001018724', '0001015739', '0000850462', '0001326801', '0001030865', '0001526520', '0001588308', '0001271024', '0001086222', '0001114128', '0000934549', '0001280452', '0001114446']\n",
    "ciks = ciks[0:10]\n",
    "parallel_extract_trading_data(ciks, start_date, end_date, days_range, parallel_exc=2)"
   ]
  }
 ],
 "metadata": {
  "kernelspec": {
   "display_name": "Python 3",
   "language": "python",
   "name": "python3"
  },
  "language_info": {
   "codemirror_mode": {
    "name": "ipython",
    "version": 3
   },
   "file_extension": ".py",
   "mimetype": "text/x-python",
   "name": "python",
   "nbconvert_exporter": "python",
   "pygments_lexer": "ipython3",
   "version": "3.8.10"
  },
  "orig_nbformat": 4
 },
 "nbformat": 4,
 "nbformat_minor": 2
}
